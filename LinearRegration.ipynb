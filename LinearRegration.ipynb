{
 "cells": [
  {
   "cell_type": "markdown",
   "metadata": {},
   "source": [
    "# 1"
   ]
  },
  {
   "cell_type": "code",
   "execution_count": 1,
   "metadata": {},
   "outputs": [
    {
     "data": {
      "text/html": [
       "<div>\n",
       "<style scoped>\n",
       "    .dataframe tbody tr th:only-of-type {\n",
       "        vertical-align: middle;\n",
       "    }\n",
       "\n",
       "    .dataframe tbody tr th {\n",
       "        vertical-align: top;\n",
       "    }\n",
       "\n",
       "    .dataframe thead th {\n",
       "        text-align: right;\n",
       "    }\n",
       "</style>\n",
       "<table border=\"1\" class=\"dataframe\">\n",
       "  <thead>\n",
       "    <tr style=\"text-align: right;\">\n",
       "      <th></th>\n",
       "      <th>iso_code</th>\n",
       "      <th>continent</th>\n",
       "      <th>location</th>\n",
       "      <th>date</th>\n",
       "      <th>total_cases</th>\n",
       "      <th>new_cases</th>\n",
       "      <th>new_cases_smoothed</th>\n",
       "      <th>total_deaths</th>\n",
       "      <th>new_deaths</th>\n",
       "      <th>new_deaths_smoothed</th>\n",
       "      <th>...</th>\n",
       "      <th>female_smokers</th>\n",
       "      <th>male_smokers</th>\n",
       "      <th>handwashing_facilities</th>\n",
       "      <th>hospital_beds_per_thousand</th>\n",
       "      <th>life_expectancy</th>\n",
       "      <th>human_development_index</th>\n",
       "      <th>excess_mortality_cumulative_absolute</th>\n",
       "      <th>excess_mortality_cumulative</th>\n",
       "      <th>excess_mortality</th>\n",
       "      <th>excess_mortality_cumulative_per_million</th>\n",
       "    </tr>\n",
       "  </thead>\n",
       "  <tbody>\n",
       "    <tr>\n",
       "      <th>0</th>\n",
       "      <td>SAU</td>\n",
       "      <td>Asia</td>\n",
       "      <td>Saudi Arabia</td>\n",
       "      <td>2020-03-02</td>\n",
       "      <td>1</td>\n",
       "      <td>1</td>\n",
       "      <td>NaN</td>\n",
       "      <td>NaN</td>\n",
       "      <td>NaN</td>\n",
       "      <td>NaN</td>\n",
       "      <td>...</td>\n",
       "      <td>1.8</td>\n",
       "      <td>25.4</td>\n",
       "      <td>NaN</td>\n",
       "      <td>2.7</td>\n",
       "      <td>75.13</td>\n",
       "      <td>0.854</td>\n",
       "      <td>NaN</td>\n",
       "      <td>NaN</td>\n",
       "      <td>NaN</td>\n",
       "      <td>NaN</td>\n",
       "    </tr>\n",
       "    <tr>\n",
       "      <th>1</th>\n",
       "      <td>SAU</td>\n",
       "      <td>Asia</td>\n",
       "      <td>Saudi Arabia</td>\n",
       "      <td>2020-03-03</td>\n",
       "      <td>1</td>\n",
       "      <td>0</td>\n",
       "      <td>NaN</td>\n",
       "      <td>NaN</td>\n",
       "      <td>NaN</td>\n",
       "      <td>NaN</td>\n",
       "      <td>...</td>\n",
       "      <td>1.8</td>\n",
       "      <td>25.4</td>\n",
       "      <td>NaN</td>\n",
       "      <td>2.7</td>\n",
       "      <td>75.13</td>\n",
       "      <td>0.854</td>\n",
       "      <td>NaN</td>\n",
       "      <td>NaN</td>\n",
       "      <td>NaN</td>\n",
       "      <td>NaN</td>\n",
       "    </tr>\n",
       "    <tr>\n",
       "      <th>2</th>\n",
       "      <td>SAU</td>\n",
       "      <td>Asia</td>\n",
       "      <td>Saudi Arabia</td>\n",
       "      <td>2020-03-04</td>\n",
       "      <td>1</td>\n",
       "      <td>0</td>\n",
       "      <td>NaN</td>\n",
       "      <td>NaN</td>\n",
       "      <td>NaN</td>\n",
       "      <td>NaN</td>\n",
       "      <td>...</td>\n",
       "      <td>1.8</td>\n",
       "      <td>25.4</td>\n",
       "      <td>NaN</td>\n",
       "      <td>2.7</td>\n",
       "      <td>75.13</td>\n",
       "      <td>0.854</td>\n",
       "      <td>NaN</td>\n",
       "      <td>NaN</td>\n",
       "      <td>NaN</td>\n",
       "      <td>NaN</td>\n",
       "    </tr>\n",
       "    <tr>\n",
       "      <th>3</th>\n",
       "      <td>SAU</td>\n",
       "      <td>Asia</td>\n",
       "      <td>Saudi Arabia</td>\n",
       "      <td>2020-03-05</td>\n",
       "      <td>5</td>\n",
       "      <td>4</td>\n",
       "      <td>NaN</td>\n",
       "      <td>NaN</td>\n",
       "      <td>NaN</td>\n",
       "      <td>NaN</td>\n",
       "      <td>...</td>\n",
       "      <td>1.8</td>\n",
       "      <td>25.4</td>\n",
       "      <td>NaN</td>\n",
       "      <td>2.7</td>\n",
       "      <td>75.13</td>\n",
       "      <td>0.854</td>\n",
       "      <td>NaN</td>\n",
       "      <td>NaN</td>\n",
       "      <td>NaN</td>\n",
       "      <td>NaN</td>\n",
       "    </tr>\n",
       "    <tr>\n",
       "      <th>4</th>\n",
       "      <td>SAU</td>\n",
       "      <td>Asia</td>\n",
       "      <td>Saudi Arabia</td>\n",
       "      <td>2020-03-06</td>\n",
       "      <td>5</td>\n",
       "      <td>0</td>\n",
       "      <td>NaN</td>\n",
       "      <td>NaN</td>\n",
       "      <td>NaN</td>\n",
       "      <td>NaN</td>\n",
       "      <td>...</td>\n",
       "      <td>1.8</td>\n",
       "      <td>25.4</td>\n",
       "      <td>NaN</td>\n",
       "      <td>2.7</td>\n",
       "      <td>75.13</td>\n",
       "      <td>0.854</td>\n",
       "      <td>NaN</td>\n",
       "      <td>NaN</td>\n",
       "      <td>NaN</td>\n",
       "      <td>NaN</td>\n",
       "    </tr>\n",
       "  </tbody>\n",
       "</table>\n",
       "<p>5 rows × 65 columns</p>\n",
       "</div>"
      ],
      "text/plain": [
       "  iso_code continent      location        date  total_cases  new_cases  \\\n",
       "0      SAU      Asia  Saudi Arabia  2020-03-02            1          1   \n",
       "1      SAU      Asia  Saudi Arabia  2020-03-03            1          0   \n",
       "2      SAU      Asia  Saudi Arabia  2020-03-04            1          0   \n",
       "3      SAU      Asia  Saudi Arabia  2020-03-05            5          4   \n",
       "4      SAU      Asia  Saudi Arabia  2020-03-06            5          0   \n",
       "\n",
       "   new_cases_smoothed  total_deaths  new_deaths  new_deaths_smoothed  ...  \\\n",
       "0                 NaN           NaN         NaN                  NaN  ...   \n",
       "1                 NaN           NaN         NaN                  NaN  ...   \n",
       "2                 NaN           NaN         NaN                  NaN  ...   \n",
       "3                 NaN           NaN         NaN                  NaN  ...   \n",
       "4                 NaN           NaN         NaN                  NaN  ...   \n",
       "\n",
       "   female_smokers  male_smokers  handwashing_facilities  \\\n",
       "0             1.8          25.4                     NaN   \n",
       "1             1.8          25.4                     NaN   \n",
       "2             1.8          25.4                     NaN   \n",
       "3             1.8          25.4                     NaN   \n",
       "4             1.8          25.4                     NaN   \n",
       "\n",
       "   hospital_beds_per_thousand  life_expectancy  human_development_index  \\\n",
       "0                         2.7            75.13                    0.854   \n",
       "1                         2.7            75.13                    0.854   \n",
       "2                         2.7            75.13                    0.854   \n",
       "3                         2.7            75.13                    0.854   \n",
       "4                         2.7            75.13                    0.854   \n",
       "\n",
       "   excess_mortality_cumulative_absolute  excess_mortality_cumulative  \\\n",
       "0                                   NaN                          NaN   \n",
       "1                                   NaN                          NaN   \n",
       "2                                   NaN                          NaN   \n",
       "3                                   NaN                          NaN   \n",
       "4                                   NaN                          NaN   \n",
       "\n",
       "   excess_mortality  excess_mortality_cumulative_per_million  \n",
       "0               NaN                                      NaN  \n",
       "1               NaN                                      NaN  \n",
       "2               NaN                                      NaN  \n",
       "3               NaN                                      NaN  \n",
       "4               NaN                                      NaN  \n",
       "\n",
       "[5 rows x 65 columns]"
      ]
     },
     "execution_count": 1,
     "metadata": {},
     "output_type": "execute_result"
    }
   ],
   "source": [
    "import pandas as pd\n",
    "import numpy as np\n",
    "\n",
    "df = pd.read_excel(\"Saudi Arabia -Covid-19 dataset.xlsx\")\n",
    "\n",
    "df.head()"
   ]
  },
  {
   "cell_type": "code",
   "execution_count": 2,
   "metadata": {},
   "outputs": [
    {
     "data": {
      "text/html": [
       "<div>\n",
       "<style scoped>\n",
       "    .dataframe tbody tr th:only-of-type {\n",
       "        vertical-align: middle;\n",
       "    }\n",
       "\n",
       "    .dataframe tbody tr th {\n",
       "        vertical-align: top;\n",
       "    }\n",
       "\n",
       "    .dataframe thead th {\n",
       "        text-align: right;\n",
       "    }\n",
       "</style>\n",
       "<table border=\"1\" class=\"dataframe\">\n",
       "  <thead>\n",
       "    <tr style=\"text-align: right;\">\n",
       "      <th></th>\n",
       "      <th>new_tests</th>\n",
       "      <th>new_cases</th>\n",
       "    </tr>\n",
       "  </thead>\n",
       "  <tbody>\n",
       "    <tr>\n",
       "      <th>0</th>\n",
       "      <td>160.0</td>\n",
       "      <td>1</td>\n",
       "    </tr>\n",
       "    <tr>\n",
       "      <th>1</th>\n",
       "      <td>240.0</td>\n",
       "      <td>0</td>\n",
       "    </tr>\n",
       "    <tr>\n",
       "      <th>2</th>\n",
       "      <td>298.0</td>\n",
       "      <td>0</td>\n",
       "    </tr>\n",
       "    <tr>\n",
       "      <th>3</th>\n",
       "      <td>487.0</td>\n",
       "      <td>4</td>\n",
       "    </tr>\n",
       "    <tr>\n",
       "      <th>4</th>\n",
       "      <td>1024.0</td>\n",
       "      <td>0</td>\n",
       "    </tr>\n",
       "  </tbody>\n",
       "</table>\n",
       "</div>"
      ],
      "text/plain": [
       "   new_tests  new_cases\n",
       "0      160.0          1\n",
       "1      240.0          0\n",
       "2      298.0          0\n",
       "3      487.0          4\n",
       "4     1024.0          0"
      ]
     },
     "execution_count": 2,
     "metadata": {},
     "output_type": "execute_result"
    }
   ],
   "source": [
    "new = df[['new_tests' , 'new_cases']]\n",
    "new.head()"
   ]
  },
  {
   "cell_type": "code",
   "execution_count": 3,
   "metadata": {},
   "outputs": [
    {
     "name": "stderr",
     "output_type": "stream",
     "text": [
      "D:\\Users\\rude_\\anaconda3\\lib\\site-packages\\ipykernel_launcher.py:2: SettingWithCopyWarning: \n",
      "A value is trying to be set on a copy of a slice from a DataFrame\n",
      "\n",
      "See the caveats in the documentation: https://pandas.pydata.org/pandas-docs/stable/user_guide/indexing.html#returning-a-view-versus-a-copy\n",
      "  \n"
     ]
    },
    {
     "data": {
      "text/plain": [
       "0"
      ]
     },
     "execution_count": 3,
     "metadata": {},
     "output_type": "execute_result"
    }
   ],
   "source": [
    "# Dropping rows with null values\n",
    "new.dropna(inplace=True , axis=0)\n",
    "new['new_tests'].isnull().sum()"
   ]
  },
  {
   "cell_type": "markdown",
   "metadata": {},
   "source": [
    "# 2"
   ]
  },
  {
   "cell_type": "code",
   "execution_count": 4,
   "metadata": {},
   "outputs": [
    {
     "name": "stdout",
     "output_type": "stream",
     "text": [
      "[ 160.  240.  298.  487. 1024.] [1 0 0 4 0]\n"
     ]
    }
   ],
   "source": [
    "Z = np.array( new['new_tests'] ) #input\n",
    "F = np.array( new['new_cases'] ) #output\n",
    "\n",
    "print(Z[:5] , F[:5])"
   ]
  },
  {
   "cell_type": "markdown",
   "metadata": {},
   "source": [
    "# 3 "
   ]
  },
  {
   "cell_type": "code",
   "execution_count": 5,
   "metadata": {},
   "outputs": [
    {
     "name": "stdout",
     "output_type": "stream",
     "text": [
      "[42125. 57483.  8219. 47129.  8256.]\n",
      "[ 249 1258  472  390  518]\n"
     ]
    }
   ],
   "source": [
    "from sklearn.model_selection import train_test_split\n",
    "\n",
    "X_train , X_test , y_train , y_test = train_test_split(Z , F , test_size=0.3 , random_state = 4)\n",
    "\n",
    "print(X_train[:5])  \n",
    "print(y_train[:5])"
   ]
  },
  {
   "cell_type": "markdown",
   "metadata": {},
   "source": [
    "# 4 "
   ]
  },
  {
   "cell_type": "code",
   "execution_count": 7,
   "metadata": {},
   "outputs": [
    {
     "data": {
      "image/png": "[encoded data removed]",
      "text/plain": [
       "<Figure size 864x504 with 1 Axes>"
      ]
     },
     "metadata": {
      "needs_background": "light"
     },
     "output_type": "display_data"
    }
   ],
   "source": [
    "import matplotlib.pyplot as plt\n",
    "\n",
    "plt.figure(figsize=(12,7))\n",
    "plt.scatter(Z , F , c='r')\n",
    "plt.xlabel('New Tests')\n",
    "plt.ylabel('New Cases')\n",
    "\n",
    "plt.show()"
   ]
  },
  {
   "cell_type": "markdown",
   "metadata": {},
   "source": [
    "# 5"
   ]
  },
  {
   "cell_type": "code",
   "execution_count": 8,
   "metadata": {},
   "outputs": [
    {
     "name": "stdout",
     "output_type": "stream",
     "text": [
      "Intercept :  823.2168753744907\n",
      "Slope :  0.0014726834540887165\n"
     ]
    }
   ],
   "source": [
    "# Adding x0=1 to each instance\n",
    "rows = len(new['new_tests'])\n",
    "X_b=np.array([np.ones(rows),Z]).T\n",
    "\n",
    "# Using Normal Equation.\n",
    "theta_best_values=np.linalg.inv(X_b.T.dot(X_b)).dot(X_b.T).dot(F)\n",
    "\n",
    "intercept = theta_best_values[0]\n",
    "slope = theta_best_values[1]\n",
    "# Display best values obtained.\n",
    "print('Intercept : ' , intercept)\n",
    "print('Slope : ' , slope)\n"
   ]
  },
  {
   "cell_type": "code",
   "execution_count": 9,
   "metadata": {},
   "outputs": [
    {
     "data": {
      "image/png": "[encoded data removed]",
      "text/plain": [
       "<Figure size 432x288 with 1 Axes>"
      ]
     },
     "metadata": {
      "needs_background": "light"
     },
     "output_type": "display_data"
    }
   ],
   "source": [
    "plt.scatter(Z , F , color='blue')\n",
    "plt.plot(Z , slope*Z + intercept , color='red')\n",
    "plt.show()"
   ]
  },
  {
   "cell_type": "code",
   "execution_count": 10,
   "metadata": {},
   "outputs": [
    {
     "name": "stdout",
     "output_type": "stream",
     "text": [
      "Predicted:\n",
      "[885.25366588 907.87113837 835.32086068 892.62297388 835.37534997]\n"
     ]
    }
   ],
   "source": [
    "def predict_val(x):\n",
    "    x_b = np.array([np.ones(len(x)),x]).T\n",
    "    \n",
    "    pred = x_b.dot(theta_best_values)\n",
    "    return pred\n",
    "\n",
    "\n",
    "predicted_value = predict_val(X_train)\n",
    "\n",
    "print('Predicted:')\n",
    "print(predicted_value[:5])"
   ]
  },
  {
   "cell_type": "markdown",
   "metadata": {},
   "source": [
    "# 6"
   ]
  },
  {
   "cell_type": "code",
   "execution_count": 11,
   "metadata": {},
   "outputs": [
    {
     "data": {
      "text/html": [
       "<div>\n",
       "<style scoped>\n",
       "    .dataframe tbody tr th:only-of-type {\n",
       "        vertical-align: middle;\n",
       "    }\n",
       "\n",
       "    .dataframe tbody tr th {\n",
       "        vertical-align: top;\n",
       "    }\n",
       "\n",
       "    .dataframe thead th {\n",
       "        text-align: right;\n",
       "    }\n",
       "</style>\n",
       "<table border=\"1\" class=\"dataframe\">\n",
       "  <thead>\n",
       "    <tr style=\"text-align: right;\">\n",
       "      <th></th>\n",
       "      <th>new_tests</th>\n",
       "      <th>new_cases</th>\n",
       "    </tr>\n",
       "  </thead>\n",
       "  <tbody>\n",
       "    <tr>\n",
       "      <th>0</th>\n",
       "      <td>-1.972192</td>\n",
       "      <td>-0.889817</td>\n",
       "    </tr>\n",
       "    <tr>\n",
       "      <th>1</th>\n",
       "      <td>-1.969018</td>\n",
       "      <td>-0.890810</td>\n",
       "    </tr>\n",
       "    <tr>\n",
       "      <th>2</th>\n",
       "      <td>-1.966717</td>\n",
       "      <td>-0.890810</td>\n",
       "    </tr>\n",
       "    <tr>\n",
       "      <th>3</th>\n",
       "      <td>-1.959220</td>\n",
       "      <td>-0.886837</td>\n",
       "    </tr>\n",
       "    <tr>\n",
       "      <th>4</th>\n",
       "      <td>-1.937917</td>\n",
       "      <td>-0.890810</td>\n",
       "    </tr>\n",
       "  </tbody>\n",
       "</table>\n",
       "</div>"
      ],
      "text/plain": [
       "   new_tests  new_cases\n",
       "0  -1.972192  -0.889817\n",
       "1  -1.969018  -0.890810\n",
       "2  -1.966717  -0.890810\n",
       "3  -1.959220  -0.886837\n",
       "4  -1.937917  -0.890810"
      ]
     },
     "execution_count": 11,
     "metadata": {},
     "output_type": "execute_result"
    }
   ],
   "source": [
    "from sklearn.preprocessing import StandardScaler\n",
    "\n",
    "sk = StandardScaler()\n",
    "new_scaled = sk.fit_transform(new)\n",
    "new_scaled = pd.DataFrame(new_scaled, columns =['new_tests', 'new_cases'])\n",
    "\n",
    "new_scaled.head()"
   ]
  },
  {
   "cell_type": "code",
   "execution_count": 12,
   "metadata": {},
   "outputs": [],
   "source": [
    "#Z_scaled = np.array(new_scaled['new_tests'])\n",
    "Z_scaled = new_scaled[['new_tests']]\n",
    "Z_scaled['intercept'] = 1\n",
    "\n",
    "Z_scaled = np.array(Z_scaled)\n",
    "F_scaled = np.array(new_scaled['new_cases'])\n",
    "\n",
    "# Adding x0=1 to each instance\n",
    "rows = len(new_scaled['new_tests'])\n",
    "#X_b=np.array([np.ones(rows),Z_scaled])\n",
    "\n",
    "theta = ([0,0])\n"
   ]
  },
  {
   "cell_type": "code",
   "execution_count": 13,
   "metadata": {},
   "outputs": [
    {
     "name": "stdout",
     "output_type": "stream",
     "text": [
      "Learned Theta =  [3.68792017e-02 5.01341887e-17]\n"
     ]
    }
   ],
   "source": [
    "def gradient_desc(X , y , alpha , theta , iterations):\n",
    "    for it in range(iterations):\n",
    "        hyp = X.dot(theta)\n",
    "        loss = hyp - y\n",
    "        gradient = X.T.dot(loss)/rows\n",
    "        theta = theta - alpha*gradient        \n",
    "    \n",
    "    return theta\n",
    "\n",
    "alpha = 0.01    #learning rate\n",
    "theta_best = gradient_desc(Z_scaled , F_scaled , alpha , theta , 1000)\n",
    "\n",
    "intercept = theta_best[0]\n",
    "slope = theta_best[1]\n",
    "\n",
    "print('Learned Theta = ' , theta_best)"
   ]
  },
  {
   "cell_type": "code",
   "execution_count": 14,
   "metadata": {},
   "outputs": [
    {
     "data": {
      "image/png": "[encoded data removed]",
      "text/plain": [
       "<Figure size 432x288 with 1 Axes>"
      ]
     },
     "metadata": {
      "needs_background": "light"
     },
     "output_type": "display_data"
    }
   ],
   "source": [
    "zz = np.array(new_scaled['new_tests'])\n",
    "\n",
    "plt.scatter(zz , F_scaled , color='blue')\n",
    "plt.plot(zz , slope*zz + intercept , color='red')\n",
    "plt.show()"
   ]
  },
  {
   "cell_type": "code",
   "execution_count": null,
   "metadata": {},
   "outputs": [],
   "source": []
  },
  {
   "cell_type": "markdown",
   "metadata": {},
   "source": [
    "# 7"
   ]
  },
  {
   "cell_type": "code",
   "execution_count": 24,
   "metadata": {},
   "outputs": [
    {
     "name": "stdout",
     "output_type": "stream",
     "text": [
      "Learned Theta =  [3.68807938e-02 4.91981183e-17]\n"
     ]
    }
   ],
   "source": [
    "# LEARNING RATE = 0.02\n",
    "\n",
    "alpha = 0.02    #learning rate\n",
    "theta_best = gradient_desc(Z_scaled , F_scaled , alpha , theta , 1000)\n",
    "\n",
    "intercept = theta_best[0]\n",
    "slope = theta_best[1]\n",
    "\n",
    "print('Learned Theta = ' , theta_best)"
   ]
  },
  {
   "cell_type": "code",
   "execution_count": 16,
   "metadata": {},
   "outputs": [
    {
     "data": {
      "image/png": "[encoded data removed]",
      "text/plain": [
       "<Figure size 432x288 with 1 Axes>"
      ]
     },
     "metadata": {
      "needs_background": "light"
     },
     "output_type": "display_data"
    }
   ],
   "source": [
    "plt.scatter(zz , F_scaled , color='blue')\n",
    "plt.plot(zz , slope*zz + intercept , color='red')\n",
    "plt.show()"
   ]
  },
  {
   "cell_type": "code",
   "execution_count": 37,
   "metadata": {},
   "outputs": [
    {
     "name": "stdout",
     "output_type": "stream",
     "text": [
      "Learned Theta =  [3.68807939e-02 1.39684923e-16]\n"
     ]
    }
   ],
   "source": [
    "# LEARNING RATE = 0.5\n",
    "\n",
    "alpha = 0.5    #learning rate\n",
    "theta_best = gradient_desc(Z_scaled , F_scaled , alpha , theta , 1000)\n",
    "\n",
    "intercept = theta_best[0]\n",
    "slope = theta_best[1]\n",
    "\n",
    "print('Learned Theta = ' , theta_best)"
   ]
  },
  {
   "cell_type": "code",
   "execution_count": 38,
   "metadata": {},
   "outputs": [
    {
     "data": {
      "image/png": "[encoded data removed]",
      "text/plain": [
       "<Figure size 432x288 with 1 Axes>"
      ]
     },
     "metadata": {
      "needs_background": "light"
     },
     "output_type": "display_data"
    }
   ],
   "source": [
    "plt.scatter(zz , F_scaled , color='blue')\n",
    "plt.plot(zz , slope*zz + intercept , color='red')\n",
    "plt.show()"
   ]
  },
  {
   "cell_type": "code",
   "execution_count": 52,
   "metadata": {},
   "outputs": [
    {
     "data": {
      "text/plain": [
       "'\\nIntercept remains same for both learning rates while slope changes.\\nOverall little to no effect is observed in the regression line in the plot.\\n(although might miss global minima in 2nd because of lr being too high)\\ntakes little more time for smaller learning rate\\n'"
      ]
     },
     "execution_count": 52,
     "metadata": {},
     "output_type": "execute_result"
    }
   ],
   "source": [
    "'''\n",
    "Intercept remains same for both learning rates while slope changes.\n",
    "Overall little to no effect is observed in the regression line in the plot.\n",
    "(although might miss global minima in 2nd because of lr being too high)\n",
    "takes little more time for smaller learning rate\n",
    "'''"
   ]
  },
  {
   "cell_type": "markdown",
   "metadata": {},
   "source": [
    "# 8"
   ]
  },
  {
   "cell_type": "code",
   "execution_count": 60,
   "metadata": {},
   "outputs": [
    {
     "name": "stdout",
     "output_type": "stream",
     "text": [
      "Learned Theta =  [2.40212562e-02 4.70937741e-17]\n"
     ]
    }
   ],
   "source": [
    "# LEARNING RATE = 0.1\n",
    "# ITERATIONS = 10\n",
    "\n",
    "alpha = 0.1    #learning rate\n",
    "theta_best = gradient_desc(Z_scaled , F_scaled , alpha , theta , 10)\n",
    "\n",
    "intercept = theta_best[0]\n",
    "slope = theta_best[1]\n",
    "\n",
    "print('Learned Theta = ' , theta_best )"
   ]
  },
  {
   "cell_type": "code",
   "execution_count": 61,
   "metadata": {},
   "outputs": [
    {
     "data": {
      "image/png": "[encoded data removed]",
      "text/plain": [
       "<Figure size 432x288 with 1 Axes>"
      ]
     },
     "metadata": {
      "needs_background": "light"
     },
     "output_type": "display_data"
    }
   ],
   "source": [
    "plt.scatter(zz , F_scaled , color='blue')\n",
    "plt.plot(zz , slope*zz + intercept , color='red')\n",
    "plt.show()"
   ]
  },
  {
   "cell_type": "code",
   "execution_count": 62,
   "metadata": {},
   "outputs": [
    {
     "name": "stdout",
     "output_type": "stream",
     "text": [
      "Learned Theta =  [3.66907186e-02 8.02553376e-17]\n"
     ]
    }
   ],
   "source": [
    "# LEARNING RATE = 0.1\n",
    "# ITERATIONS = 50\n",
    "\n",
    "alpha = 0.1    #learning rate\n",
    "theta_best = gradient_desc(Z_scaled , F_scaled , alpha , theta , 50)\n",
    "\n",
    "intercept = theta_best[0]\n",
    "slope = theta_best[1]\n",
    "\n",
    "print('Learned Theta = ' , theta_best)"
   ]
  },
  {
   "cell_type": "code",
   "execution_count": 63,
   "metadata": {},
   "outputs": [
    {
     "data": {
      "image/png": "[encoded data removed]",
      "text/plain": [
       "<Figure size 432x288 with 1 Axes>"
      ]
     },
     "metadata": {
      "needs_background": "light"
     },
     "output_type": "display_data"
    }
   ],
   "source": [
    "plt.scatter(zz , F_scaled , color='blue')\n",
    "plt.plot(zz , slope*zz + intercept , color='red')\n",
    "plt.show()"
   ]
  },
  {
   "cell_type": "code",
   "execution_count": 64,
   "metadata": {},
   "outputs": [
    {
     "name": "stdout",
     "output_type": "stream",
     "text": [
      "Learned Theta =  [3.68798143e-02 2.58326403e-17]\n"
     ]
    }
   ],
   "source": [
    "# LEARNING RATE = 0.1\n",
    "# ITERATIONS = 100\n",
    "\n",
    "alpha = 0.1    #learning rate\n",
    "theta_best = gradient_desc(Z_scaled , F_scaled , alpha , theta , 100)\n",
    "\n",
    "intercept = theta_best[0]\n",
    "slope = theta_best[1]\n",
    "\n",
    "print('Learned Theta = ' , theta_best)"
   ]
  },
  {
   "cell_type": "code",
   "execution_count": 65,
   "metadata": {},
   "outputs": [
    {
     "data": {
      "image/png": "[encoded data removed]",
      "text/plain": [
       "<Figure size 432x288 with 1 Axes>"
      ]
     },
     "metadata": {
      "needs_background": "light"
     },
     "output_type": "display_data"
    }
   ],
   "source": [
    "plt.scatter(zz , F_scaled , color='blue')\n",
    "plt.plot(zz , slope*zz + intercept , color='red')\n",
    "plt.show()"
   ]
  },
  {
   "cell_type": "code",
   "execution_count": 51,
   "metadata": {
    "scrolled": true
   },
   "outputs": [
    {
     "data": {
      "text/plain": [
       "\"\\nIntercept doesn't change much after 50 iteration but there is major difference in slope for selecting differnt number of iterations.\\n\""
      ]
     },
     "execution_count": 51,
     "metadata": {},
     "output_type": "execute_result"
    }
   ],
   "source": [
    "'''\n",
    "Intercept doesn't change much after 50 iteration but there is major difference in slope for selecting differnt \n",
    "number of iterations.\n",
    "'''"
   ]
  },
  {
   "cell_type": "markdown",
   "metadata": {},
   "source": [
    "# 9\n"
   ]
  },
  {
   "cell_type": "code",
   "execution_count": 66,
   "metadata": {},
   "outputs": [
    {
     "data": {
      "text/plain": [
       "SGDRegressor(alpha=0.0001, average=False, early_stopping=False, epsilon=0.1,\n",
       "             eta0=0.01, fit_intercept=True, l1_ratio=0.15,\n",
       "             learning_rate='invscaling', loss='squared_loss', max_iter=50,\n",
       "             n_iter_no_change=5, penalty='l2', power_t=0.25, random_state=42,\n",
       "             shuffle=True, tol=0.001, validation_fraction=0.1, verbose=0,\n",
       "             warm_start=False)"
      ]
     },
     "execution_count": 66,
     "metadata": {},
     "output_type": "execute_result"
    }
   ],
   "source": [
    "from sklearn.linear_model import SGDRegressor\n",
    "\n",
    "Z_scaled = new_scaled[['new_tests']]\n",
    "Z_scaled['intercept'] = 1\n",
    "\n",
    "Z_scaled = np.array(Z_scaled)\n",
    "F_scaled = np.array(new_scaled['new_cases'])\n",
    "\n",
    "sgd = SGDRegressor(max_iter=50 , eta0=0.01 , random_state = 42)\n",
    "\n",
    "sgd.fit(Z_scaled , F_scaled)"
   ]
  },
  {
   "cell_type": "code",
   "execution_count": 67,
   "metadata": {},
   "outputs": [
    {
     "name": "stdout",
     "output_type": "stream",
     "text": [
      "Learned Theta =  [0.02774915 0.01023551]\n"
     ]
    }
   ],
   "source": [
    "print('Learned Theta = ' , sgd.coef_) # ( slope , intercept)"
   ]
  },
  {
   "cell_type": "code",
   "execution_count": null,
   "metadata": {},
   "outputs": [],
   "source": []
  },
  {
   "cell_type": "markdown",
   "metadata": {},
   "source": [
    "# 10  and 11"
   ]
  },
  {
   "cell_type": "code",
   "execution_count": 68,
   "metadata": {},
   "outputs": [
    {
     "name": "stdout",
     "output_type": "stream",
     "text": [
      "Learned Theta =  [-0.01420909 -0.07403453]\n"
     ]
    }
   ],
   "source": [
    "# HELP TAKEN FROM -->  https://prutor.ai/mini-batch-gradient-descent-with-python/\n",
    "\n",
    "#           FOR MINI BATCH SIZE = 20\n",
    "\n",
    "rows = len(Z_scaled)\n",
    "\n",
    "def iterate_minibatches(chunksize):\n",
    "    # Provide chunks one by one\n",
    "    start = 0\n",
    "    while start+chunksize < rows:\n",
    "        chunkrows = range(start , start+chunksize)\n",
    "        X_ch = Z_scaled[chunkrows] \n",
    "        y_ch = F_scaled[chunkrows]        \n",
    "        yield X_ch , y_ch\n",
    "        start += chunksize\n",
    " \n",
    "batch_iterator = iterate_minibatches(20)\n",
    "model = SGDRegressor()\n",
    "\n",
    "# Train model\n",
    "for X_ch, y_ch in batch_iterator:\n",
    "    model.partial_fit(X_ch, y_ch)\n",
    "    \n",
    "print('Learned Theta = ' , model.coef_) # ( slope , intercept)"
   ]
  },
  {
   "cell_type": "code",
   "execution_count": 69,
   "metadata": {},
   "outputs": [
    {
     "name": "stdout",
     "output_type": "stream",
     "text": [
      "Learned Theta =  [ 0.11429719 -0.10445492]\n"
     ]
    }
   ],
   "source": [
    "#           FOR MINI BATCH SIZE = 120\n",
    "\n",
    "rows = len(Z_scaled)\n",
    "\n",
    "def iterate_minibatches(chunksize):\n",
    "    # Provide chunks one by one\n",
    "    start = 0\n",
    "    while start+chunksize < rows:\n",
    "        chunkrows = range(start , start+chunksize)\n",
    "        X_ch = Z_scaled[chunkrows] \n",
    "        y_ch = F_scaled[chunkrows]        \n",
    "        yield X_ch , y_ch\n",
    "        start += chunksize\n",
    " \n",
    "batch_iterator = iterate_minibatches(120)\n",
    "model = SGDRegressor()\n",
    "\n",
    "# Train model\n",
    "for X_ch, y_ch in batch_iterator:\n",
    "    model.partial_fit(X_ch, y_ch)\n",
    "    \n",
    "print('Learned Theta = ' , model.coef_) # ( slope , intercept)"
   ]
  },
  {
   "cell_type": "code",
   "execution_count": 70,
   "metadata": {},
   "outputs": [
    {
     "name": "stdout",
     "output_type": "stream",
     "text": [
      "Learned Theta =  [ 0.02434668 -0.07171362]\n"
     ]
    }
   ],
   "source": [
    "#           FOR MINI BATCH SIZE = 66\n",
    "\n",
    "rows = len(Z_scaled)\n",
    "\n",
    "def iterate_minibatches(chunksize):\n",
    "    # Provide chunks one by one\n",
    "    start = 0\n",
    "    while start+chunksize < rows:\n",
    "        chunkrows = range(start , start+chunksize)\n",
    "        X_ch = Z_scaled[chunkrows] \n",
    "        y_ch = F_scaled[chunkrows]        \n",
    "        yield X_ch , y_ch\n",
    "        start += chunksize\n",
    " \n",
    "batch_iterator = iterate_minibatches(66)\n",
    "model = SGDRegressor()\n",
    "\n",
    "# Train model\n",
    "for X_ch, y_ch in batch_iterator:\n",
    "    model.partial_fit(X_ch, y_ch)\n",
    "    \n",
    "print('Learned Theta = ' , model.coef_) # ( slope , intercept)"
   ]
  },
  {
   "cell_type": "code",
   "execution_count": null,
   "metadata": {},
   "outputs": [],
   "source": []
  },
  {
   "cell_type": "markdown",
   "metadata": {},
   "source": [
    "# 12"
   ]
  },
  {
   "cell_type": "code",
   "execution_count": 71,
   "metadata": {},
   "outputs": [
    {
     "name": "stderr",
     "output_type": "stream",
     "text": [
      "D:\\Users\\rude_\\anaconda3\\lib\\site-packages\\ipykernel_launcher.py:5: SettingWithCopyWarning: \n",
      "A value is trying to be set on a copy of a slice from a DataFrame\n",
      "\n",
      "See the caveats in the documentation: https://pandas.pydata.org/pandas-docs/stable/user_guide/indexing.html#returning-a-view-versus-a-copy\n",
      "  \"\"\"\n"
     ]
    }
   ],
   "source": [
    "from sklearn.linear_model import LinearRegression\n",
    "\n",
    "multi = df[['new_tests' , 'new_cases_per_million' , 'new_deaths_per_million' , 'new_tests_per_thousand' , 'tests_per_case' , 'new_cases']]\n",
    "\n",
    "multi.dropna(inplace=True , axis=0)\n",
    "\n",
    "X = multi.drop('new_cases' , axis=1)\n",
    "y = multi[['new_cases']]"
   ]
  },
  {
   "cell_type": "code",
   "execution_count": 72,
   "metadata": {},
   "outputs": [
    {
     "name": "stdout",
     "output_type": "stream",
     "text": [
      "Learned Theta =  [[-1.20830391e-05  3.53406488e+01  2.53635210e-03  4.27606324e-01\n",
      "   4.75936534e-07]]\n"
     ]
    }
   ],
   "source": [
    "lr = LinearRegression()\n",
    "\n",
    "lr.fit(X , y)\n",
    "\n",
    "print('Learned Theta = ' , lr.coef_) # ( slope , intercept)"
   ]
  },
  {
   "cell_type": "markdown",
   "metadata": {},
   "source": []
  },
  {
   "cell_type": "markdown",
   "metadata": {},
   "source": [
    "#  13"
   ]
  },
  {
   "cell_type": "code",
   "execution_count": 73,
   "metadata": {},
   "outputs": [
    {
     "name": "stdout",
     "output_type": "stream",
     "text": [
      "Learned Theta =  [[ 1.68445415e-03  5.87011103e-05  5.28997261e-07 -5.39713622e-08\n",
      "  -9.68949055e-09  1.97183172e-07 -8.12316526e-07  2.94427972e-03\n",
      "   2.81080917e-05 -4.71678877e-08 -2.57798267e-06  2.72595055e-05\n",
      "   2.55190911e-07  8.31817336e-08  6.56656570e-08  1.70957555e-09\n",
      "  -2.50953145e-09 -1.61695660e-08 -2.75700413e-12 -4.20025631e-10\n",
      "   1.64792359e-06  4.01594437e-10 -7.12817664e-08  1.12520225e-06\n",
      "  -1.35465572e-05  1.34344569e-09  5.81473151e-06 -8.54372913e-04\n",
      "   5.06455827e-07 -1.81633368e-06 -1.16202314e-05 -4.98516370e-09\n",
      "  -2.99171313e-05 -7.50469525e-10 -4.98074207e-06 -5.08635768e-08\n",
      "   1.74545644e-03  1.36194802e-05  2.57395042e-09 -3.66327653e-07\n",
      "   1.24506221e-07 -2.41333162e-08  1.02911560e-06  2.87270582e-11\n",
      "  -2.83196921e-09 -5.77660724e-06  2.41698533e-09 -3.28501681e-10\n",
      "   2.61050046e-08 -2.82213699e-13 -1.00134609e-09 -2.61772597e-05\n",
      "  -3.11670718e-14 -2.81878869e-10 -1.68428487e-07  9.31112617e-07\n",
      "  -2.38124001e-15 -6.57709638e-12 -4.64616539e-10  5.32179452e-11\n",
      "   7.06212849e-13  1.12286292e-10  1.74815722e-08  2.44368031e-07\n",
      "   2.13229068e-09 -3.52197383e-07  1.61242900e-05 -4.63864341e-09\n",
      "   9.79636192e-07 -2.56297988e-08 -3.25494672e-10 -1.33694223e-07\n",
      "   7.03504662e-06 -2.63705555e-06 -8.94787132e-08 -1.88934310e-04\n",
      "   7.37451505e-07  2.45319193e-06  2.51404449e-09 -7.16147270e-05\n",
      "   6.48355289e-09  4.96697931e-05  7.01879268e-09  8.31034567e-06\n",
      "   9.41048443e-10 -5.56748820e-06  5.23652183e-07  8.31756439e-11\n",
      "  -1.79078682e-09  1.15153063e-05  1.21205989e-08  3.49872285e-06\n",
      "  -3.98345251e-04  7.14385740e-07  1.17005607e-05 -7.32803925e-06\n",
      "   8.48247872e-09  7.06437157e-05 -1.42755959e-10 -4.50458815e-09\n",
      "   2.35128607e-05 -5.88573726e-08 -5.24816587e-09  9.77180096e-06\n",
      "   4.18056876e-11  4.85959416e-10 -4.39288248e-04  2.12833012e-13\n",
      "  -4.05249678e-09 -8.68773210e-07 -4.62356057e-07  2.75893967e-09\n",
      "   1.40647741e-09  4.66422347e-07  3.98223757e-13  2.20894514e-10\n",
      "  -8.99956626e-05  4.11534776e-14 -3.15075439e-10 -8.08659539e-08\n",
      "  -1.36784368e-05  4.70799775e-15 -1.51986120e-13  6.53088250e-10\n",
      "  -4.27635815e-04 -6.04827827e-10]]\n"
     ]
    }
   ],
   "source": [
    "# QUADRATIC POLYNOMIAL\n",
    "\n",
    "from sklearn.preprocessing import PolynomialFeatures\n",
    "\n",
    "pol_feat = PolynomialFeatures(degree = 4)\n",
    "X_poly = pol_feat.fit_transform(X)\n",
    "\n",
    "pol_lr = LinearRegression()\n",
    "\n",
    "pol_lr.fit(X_poly , y)\n",
    "\n",
    "print('Learned Theta = ' , pol_lr.coef_) # ( slope , intercept)"
   ]
  },
  {
   "cell_type": "code",
   "execution_count": 74,
   "metadata": {},
   "outputs": [
    {
     "data": {
      "image/png": "[encoded data removed]",
      "text/plain": [
       "<Figure size 432x288 with 1 Axes>"
      ]
     },
     "metadata": {
      "needs_background": "light"
     },
     "output_type": "display_data"
    }
   ],
   "source": [
    "y_pred = pol_lr.predict(X_poly)\n",
    "\n",
    "# X_plot = np.arange(0,len(X),1)\n",
    "# plt.scatter(X_plot , y , color='blue')\n",
    "plt.scatter(X.iloc[:,0].values , y , color='blue')\n",
    "plt.scatter(X.iloc[:,1].values , y , color='blue')\n",
    "plt.scatter(X.iloc[:,2].values , y , color='blue')\n",
    "plt.scatter(X.iloc[:,3].values , y , color='blue')\n",
    "plt.scatter(X.iloc[:,4].values , y , color='blue')\n",
    "\n",
    "plt.plot(X , y_pred , color='red') \n",
    "\n",
    "plt.show()"
   ]
  },
  {
   "cell_type": "code",
   "execution_count": null,
   "metadata": {},
   "outputs": [],
   "source": []
  },
  {
   "cell_type": "markdown",
   "metadata": {},
   "source": [
    "# 14"
   ]
  },
  {
   "cell_type": "code",
   "execution_count": 75,
   "metadata": {},
   "outputs": [
    {
     "name": "stdout",
     "output_type": "stream",
     "text": [
      "Learned Theta =  [[ 0.00000000e+00  9.98257544e-05  3.53405366e+01  1.59297646e-02\n",
      "  -3.52841770e+00 -3.04867383e-06 -2.24562871e-09 -2.20981991e-06\n",
      "   8.54541757e-05  7.93766134e-05  1.19022453e-07 -1.55745182e-07\n",
      "   8.81049935e-05  7.81365225e-02  6.89805503e-07 -6.91327431e-03\n",
      "  -3.02497853e+00 -1.78755600e-05 -3.74431871e-04 -4.20102179e-03\n",
      "  -2.66262114e-09]]\n"
     ]
    }
   ],
   "source": [
    "# 2d POLYNOMIAL\n",
    "\n",
    "from sklearn.preprocessing import PolynomialFeatures\n",
    "\n",
    "pol_feat = PolynomialFeatures(degree = 2)\n",
    "X_poly = pol_feat.fit_transform(X)\n",
    "\n",
    "pol_lr = LinearRegression()\n",
    "\n",
    "pol_lr.fit(X_poly , y)\n",
    "\n",
    "print('Learned Theta = ' , pol_lr.coef_) # ( slope , intercept)"
   ]
  },
  {
   "cell_type": "code",
   "execution_count": 76,
   "metadata": {},
   "outputs": [
    {
     "data": {
      "image/png": "[encoded data removed]",
      "text/plain": [
       "<Figure size 432x288 with 1 Axes>"
      ]
     },
     "metadata": {
      "needs_background": "light"
     },
     "output_type": "display_data"
    }
   ],
   "source": [
    "y_pred = pol_lr.predict(X_poly)\n",
    "\n",
    "# X_plot = np.arange(0,len(X),1)\n",
    "# plt.scatter(X_plot , y , color='blue')\n",
    "plt.scatter(X.iloc[:,0].values , y , color='blue')\n",
    "plt.scatter(X.iloc[:,1].values , y , color='blue')\n",
    "plt.scatter(X.iloc[:,2].values , y , color='blue')\n",
    "plt.scatter(X.iloc[:,3].values , y , color='blue')\n",
    "plt.scatter(X.iloc[:,4].values , y , color='blue')\n",
    "\n",
    "plt.plot(X , y_pred , color='red') \n",
    "\n",
    "plt.show()"
   ]
  },
  {
   "cell_type": "code",
   "execution_count": null,
   "metadata": {},
   "outputs": [],
   "source": []
  },
  {
   "cell_type": "markdown",
   "metadata": {},
   "source": [
    "#  15"
   ]
  },
  {
   "cell_type": "code",
   "execution_count": 77,
   "metadata": {},
   "outputs": [
    {
     "name": "stdout",
     "output_type": "stream",
     "text": [
      "Learned Theta =  [[ 3.29937762e-05  3.53406537e+01  3.41840240e-03 -1.16575216e+00\n",
      "   2.02250699e-06]]\n"
     ]
    }
   ],
   "source": [
    "X_train , X_test , y_train , y_test = train_test_split(X , y , test_size=0.3 , random_state = 4)\n",
    "\n",
    "lr = LinearRegression()\n",
    "\n",
    "lr.fit(X_train , y_train)\n",
    "\n",
    "print('Learned Theta = ' , lr.coef_) # ( slope , intercept)"
   ]
  },
  {
   "cell_type": "code",
   "execution_count": 78,
   "metadata": {},
   "outputs": [
    {
     "data": {
      "image/png": "[encoded data removed]",
      "text/plain": [
       "<Figure size 432x288 with 1 Axes>"
      ]
     },
     "metadata": {
      "needs_background": "light"
     },
     "output_type": "display_data"
    }
   ],
   "source": [
    "# Plotting while testing on test data (predicting)\n",
    "\n",
    "y_pred = lr.predict(X_test)\n",
    "\n",
    "plt.scatter(X_test.iloc[:,0].values , y_test , color='blue')\n",
    "plt.scatter(X_test.iloc[:,1].values , y_test , color='blue')\n",
    "plt.scatter(X_test.iloc[:,2].values , y_test , color='blue')\n",
    "plt.scatter(X_test.iloc[:,3].values , y_test , color='blue')\n",
    "plt.scatter(X_test.iloc[:,4].values , y_test , color='blue')\n",
    "\n",
    "plt.plot(X_test , y_pred , color='red') \n",
    "\n",
    "plt.show()"
   ]
  }
 ],
 "metadata": {
  "kernelspec": {
   "display_name": "Python 3 (ipykernel)",
   "language": "python",
   "name": "python3"
  },
  "language_info": {
   "codemirror_mode": {
    "name": "ipython",
    "version": 3
   },
   "file_extension": ".py",
   "mimetype": "text/x-python",
   "name": "python",
   "nbconvert_exporter": "python",
   "pygments_lexer": "ipython3",
   "version": "3.9.13"
  }
 },
 "nbformat": 4,
 "nbformat_minor": 4
}
